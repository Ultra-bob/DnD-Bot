{
 "cells": [
  {
   "cell_type": "code",
   "execution_count": 26,
   "metadata": {},
   "outputs": [],
   "source": [
    "from PIL import Image, ImageDraw, ImageFont, ImageChops\n",
    "\n",
    "d4_image = Image.open('assets/d4_blank.png')\n",
    "d6_image = Image.open('assets/d6_blank.png')\n",
    "d8_image = Image.open('assets/d8_blank.png')\n",
    "d10_image = Image.open('assets/d10_blank.png')\n",
    "d12_image = Image.open('assets/d12_blank.png')\n",
    "d20_image = Image.open('assets/d20_blank.png')"
   ]
  },
  {
   "cell_type": "code",
   "execution_count": 30,
   "metadata": {},
   "outputs": [],
   "source": [
    "def trim(im):\n",
    "    bbox = im.getbbox()\n",
    "    if bbox:\n",
    "        return im.crop(bbox)"
   ]
  },
  {
   "cell_type": "code",
   "execution_count": 31,
   "metadata": {},
   "outputs": [],
   "source": [
    "for D in [4, 6, 8, 10, 12, 20]:\n",
    "    for i in range(1, D+1):\n",
    "        # write the number on the image\n",
    "        cp = eval(f\"d{D}_image\").copy()\n",
    "        draw = ImageDraw.Draw(cp)\n",
    "        font = ImageFont.truetype('assets/Roboto-Regular.ttf', 110)\n",
    "        draw.text((91 if i != 4 else 85, 90 if D != 4 else 100) , str(i), fill=(255, 255, 255, 255), font=font, anchor='mm')\n",
    "        cp = trim(cp) or cp\n",
    "        cp.save(f'assets/dice_emoji/d{D}_{i}.png')"
   ]
  }
 ],
 "metadata": {
  "kernelspec": {
   "display_name": "Python 3",
   "language": "python",
   "name": "python3"
  },
  "language_info": {
   "codemirror_mode": {
    "name": "ipython",
    "version": 3
   },
   "file_extension": ".py",
   "mimetype": "text/x-python",
   "name": "python",
   "nbconvert_exporter": "python",
   "pygments_lexer": "ipython3",
   "version": "3.10.9"
  },
  "orig_nbformat": 4
 },
 "nbformat": 4,
 "nbformat_minor": 2
}
